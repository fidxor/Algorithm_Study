{
 "cells": [
  {
   "attachments": {},
   "cell_type": "markdown",
   "metadata": {},
   "source": [
    "# 문제\n",
    "N장의 카드가 있다. 각각의 카드는 차례로 1부터 N까지의 번호가 붙어 있으며, 1번 카드가 제일 위에, N번 카드가 제일 아래인 상태로 순서대로 카드가 놓여 있다.\n",
    "\n",
    "이제 다음과 같은 동작을 카드가 한 장 남을 때까지 반복하게 된다. 우선, 제일 위에 있는 카드를 바닥에 버린다. 그 다음, 제일 위에 있는 카드를 제일 아래에 있는 카드 밑으로 옮긴다.\n",
    "\n",
    "예를 들어 N=4인 경우를 생각해 보자. 카드는 제일 위에서부터 1234 의 순서로 놓여있다. 1을 버리면 234가 남는다. 여기서 2를 제일 아래로 옮기면 342가 된다. 3을 버리면 42가 되고, 4를 밑으로 옮기면 24가 된다. 마지막으로 2를 버리고 나면, 남는 카드는 4가 된다.\n",
    "\n",
    "N이 주어졌을 때, 제일 마지막에 남게 되는 카드를 구하는 프로그램을 작성하시오."
   ]
  },
  {
   "cell_type": "code",
   "execution_count": 16,
   "metadata": {},
   "outputs": [
    {
     "name": "stdout",
     "output_type": "stream",
     "text": [
      "8\n"
     ]
    }
   ],
   "source": [
    "from collections import deque\n",
    "\n",
    "N = int(input())\n",
    "\n",
    "queue = deque(range(1, N + 1))\n",
    "\n",
    "while len(queue) > 1:\n",
    "    # 맨 앞의 카드 버리기\n",
    "    queue.popleft()\n",
    "    # 버린카드 다음 카드를 맨뒤로 보내기            \n",
    "    queue.append(queue.popleft())\n",
    "\n",
    "print(queue.popleft())\n",
    "\n",
    "\n",
    "'''\n",
    "리스트로만 해결하려고 하니깐 백준에서 계속해서 시간초과로 실패.\n",
    "공부하다 보니 python에 queue 전용 패키지가 있는걸 확인 하고\n",
    "리스트에서 queue로만 바꿔준걸로 어마어마한 스피드를 보여주는걸 확인.\n",
    "그리고 한가지 더 백준에서는 결과 값을 보여주는 print() 함수 안썼다고 틀렸다고 한다.\n",
    "아직 백준이랑 친해지려면 멀었나 보구만. \n",
    "'''\n",
    "\n",
    "# 처리속도가 너무 느리다 .\n",
    "# 더 빠르게 처리 할수 있는 아름다운 방법을 찾아라\n",
    "\n",
    "# N = int(input())\n",
    "\n",
    "# lstN = list(range(1, N + 1))\n",
    "\n",
    "# def ExcuteCard(lstN):\n",
    "#     count = 0\n",
    "\n",
    "#     while len(lstN) > 1:\n",
    "#         # 맨 앞의 카드 버리기\n",
    "#         lstN.pop(0)\n",
    "#         # 버린카드 다음 카드를 맨뒤로 보내기        \n",
    "#         lstN.append(lstN.pop(0))\n",
    "#         count += 1\n",
    "#         print(lstN)\n",
    "\n",
    "#     return lstN[0]\n",
    "\n",
    "# result = ExcuteCard(lstN)"
   ]
  }
 ],
 "metadata": {
  "kernelspec": {
   "display_name": "Python 3",
   "language": "python",
   "name": "python3"
  },
  "language_info": {
   "codemirror_mode": {
    "name": "ipython",
    "version": 3
   },
   "file_extension": ".py",
   "mimetype": "text/x-python",
   "name": "python",
   "nbconvert_exporter": "python",
   "pygments_lexer": "ipython3",
   "version": "3.11.3"
  },
  "orig_nbformat": 4
 },
 "nbformat": 4,
 "nbformat_minor": 2
}
