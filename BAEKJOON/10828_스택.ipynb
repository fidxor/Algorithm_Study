{
 "cells": [
  {
   "attachments": {},
   "cell_type": "markdown",
   "metadata": {},
   "source": [
    "### [스택](https://www.acmicpc.net/problem/10828)"
   ]
  },
  {
   "attachments": {},
   "cell_type": "markdown",
   "metadata": {},
   "source": [
    "push X: 정수 X를 스택에 넣는 연산이다.  \n",
    "pop: 스택에서 가장 위에 있는 정수를 빼고, 그 수를 출력한다. 만약 스택에 들어있는 정수가 없는 경우에는 -1을 출력한다.  \n",
    "size: 스택에 들어있는 정수의 개수를 출력한다.  \n",
    "empty: 스택이 비어있으면 1, 아니면 0을 출력한다.  \n",
    "top: 스택의 가장 위에 있는 정수를 출력한다. 만약 스택에 들어있는 정수가 없는 경우에는 -1을 출력한다."
   ]
  },
  {
   "cell_type": "code",
   "execution_count": 1,
   "metadata": {},
   "outputs": [],
   "source": [
    "from collections import deque\n",
    "import sys \n",
    "\n",
    "N = int(input())\n",
    "\n",
    "numlst = deque()\n",
    "\n",
    "for i in range(N):\n",
    "    inputCmd = sys.stdin.readline().rstrip()\n",
    "    \n",
    "    if inputCmd == 'pop':\n",
    "        if numlst: print(numlst.pop()) \n",
    "        else: print(-1)         \n",
    "    elif inputCmd == 'size':\n",
    "        print(len(numlst))\n",
    "    elif inputCmd == 'empty':\n",
    "        if numlst: print(0)\n",
    "        else: print(1)\n",
    "    elif inputCmd == 'top':     \n",
    "        if numlst: print(numlst[-1])\n",
    "        else: print(-1)\n",
    "    else:                \n",
    "        numbers = inputCmd.split()        \n",
    "        numlst.append(int(numbers[1]))"
   ]
  },
  {
   "cell_type": "code",
   "execution_count": null,
   "metadata": {},
   "outputs": [],
   "source": [
    "'''\n",
    "런타임 에러 valueerror\n",
    "시간초과 tq\n",
    "for문 안에서 입력은 sys.stdin.readline()\n",
    "'''"
   ]
  }
 ],
 "metadata": {
  "kernelspec": {
   "display_name": "Python 3",
   "language": "python",
   "name": "python3"
  },
  "language_info": {
   "codemirror_mode": {
    "name": "ipython",
    "version": 3
   },
   "file_extension": ".py",
   "mimetype": "text/x-python",
   "name": "python",
   "nbconvert_exporter": "python",
   "pygments_lexer": "ipython3",
   "version": "3.11.3"
  },
  "orig_nbformat": 4
 },
 "nbformat": 4,
 "nbformat_minor": 2
}
