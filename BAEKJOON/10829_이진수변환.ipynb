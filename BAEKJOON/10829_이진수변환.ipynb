{
 "cells": [
  {
   "attachments": {},
   "cell_type": "markdown",
   "metadata": {},
   "source": [
    "# 문제\n",
    "\n",
    "자연수 N이 주어진다. N을 이진수로 바꿔서 출력하는 프로그램을 작성하시오."
   ]
  },
  {
   "cell_type": "code",
   "execution_count": 31,
   "metadata": {},
   "outputs": [
    {
     "name": "stdout",
     "output_type": "stream",
     "text": [
      "100000\n"
     ]
    }
   ],
   "source": [
    "N = int(input())\n",
    "\n",
    "def binary(N):\n",
    "\n",
    "    binary = ''\n",
    "\n",
    "    while N >= 2:        \n",
    "        binary = str(int(N % 2)) + binary\n",
    "        N = int(N / 2)\n",
    "    \n",
    "    if N == 1: \n",
    "        binary = str(int(N)) + binary\n",
    "\n",
    "\n",
    "    print(binary)\n",
    "\n",
    "binary(N)\n"
   ]
  },
  {
   "cell_type": "code",
   "execution_count": 21,
   "metadata": {},
   "outputs": [
    {
     "name": "stdout",
     "output_type": "stream",
     "text": [
      "2288\n"
     ]
    }
   ],
   "source": [
    "def solution(N):\n",
    "    answer = 0\n",
    "\n",
    "    isNotPrimeNumber = False\n",
    "\n",
    "    for i in range(2, N + 1):\n",
    "        for j in range(2, N + 1):\n",
    "            if i < j:\n",
    "                break\n",
    "\n",
    "            if i % j == 0 and i != j:                \n",
    "                isNotPrimeNumber = True\n",
    "                break\n",
    "        \n",
    "        if isNotPrimeNumber == False:\n",
    "            answer += 1\n",
    "        else:\n",
    "            isNotPrimeNumber = False\n",
    "\n",
    "    return answer\n",
    "\n",
    "\n",
    "result = solution(10000)\n",
    "\n",
    "print(result)"
   ]
  }
 ],
 "metadata": {
  "kernelspec": {
   "display_name": "Python 3",
   "language": "python",
   "name": "python3"
  },
  "language_info": {
   "codemirror_mode": {
    "name": "ipython",
    "version": 3
   },
   "file_extension": ".py",
   "mimetype": "text/x-python",
   "name": "python",
   "nbconvert_exporter": "python",
   "pygments_lexer": "ipython3",
   "version": "3.11.3"
  },
  "orig_nbformat": 4
 },
 "nbformat": 4,
 "nbformat_minor": 2
}
