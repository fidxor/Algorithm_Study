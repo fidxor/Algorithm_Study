{
 "cells": [
  {
   "attachments": {},
   "cell_type": "markdown",
   "metadata": {},
   "source": [
    "## 문제\n",
    "괄호 문자열(Parenthesis String, PS)은 두 개의 괄호 기호인 ‘(’ 와 ‘)’ 만으로 구성되어 있는 문자열이다. 그 중에서 괄호의 모양이 바르게 구성된 문자열을 올바른 괄호 문자열(Valid PS, VPS)이라고 부른다. 한 쌍의 괄호 기호로 된 “( )” 문자열은 기본 VPS 이라고 부른다. 만일 x 가 VPS 라면 이것을 하나의 괄호에 넣은 새로운 문자열 “(x)”도 VPS 가 된다. 그리고 두 VPS x 와 y를 접합(concatenation)시킨 새로운 문자열 xy도 VPS 가 된다. 예를 들어 “(())()”와 “((()))” 는 VPS 이지만 “(()(”, “(())()))” , 그리고 “(()” 는 모두 VPS 가 아닌 문자열이다. \n",
    "\n",
    "여러분은 입력으로 주어진 괄호 문자열이 VPS 인지 아닌지를 판단해서 그 결과를 YES 와 NO 로 나타내어야 한다. \n",
    "\n",
    "## 입력\n",
    "입력 데이터는 표준 입력을 사용한다. 입력은 T개의 테스트 데이터로 주어진다. 입력의 첫 번째 줄에는 입력 데이터의 수를 나타내는 정수 T가 주어진다. 각 테스트 데이터의 첫째 줄에는 괄호 문자열이 한 줄에 주어진다. 하나의 괄호 문자열의 길이는 2 이상 50 이하이다. \n",
    "\n",
    "## 출력\n",
    "출력은 표준 출력을 사용한다. 만일 입력 괄호 문자열이 올바른 괄호 문자열(VPS)이면 “YES”, 아니면 “NO”를 한 줄에 하나씩 차례대로 출력해야 한다. "
   ]
  },
  {
   "cell_type": "code",
   "execution_count": 26,
   "metadata": {},
   "outputs": [
    {
     "name": "stdout",
     "output_type": "stream",
     "text": [
      "NO\n",
      "NO\n",
      "YES\n",
      "NO\n",
      "YES\n",
      "NO\n"
     ]
    }
   ],
   "source": [
    "# a = list(input().split(' '))\n",
    "\n",
    "# lst = a[1:]  \n",
    "\n",
    "# 처음에 데이터 개수를 정수로 입력받음.\n",
    "T = int(input())\n",
    "\n",
    "def ValidPS(T):\n",
    "    #입력받은 정수의 수만큼 for문 돌리고 각각 한줄의 괄호 문자를 입력받음.\n",
    "    for i in range(T):\n",
    "        bracket = input()\n",
    "        printYesORNo(bracket)\n",
    "\n",
    "    \n",
    "def printYesORNo(bracket):\n",
    "    lsttemp = []    \n",
    "\n",
    "    for i in bracket:\n",
    "        if not lsttemp:\n",
    "            lsttemp.append(i)\n",
    "            # 리스트에 첫번째 괄호가 ')' 이게 들어가면 for문 전부 돌거 없이 무조건 NO\n",
    "            if i == ')':\n",
    "                break\n",
    "            \n",
    "            continue\n",
    "        #리스트에 '(' 이게 쌓이다가 ')' 이게 들어가면 짝이 맞았기 때문에 맨 마지막에 들어간 '(' <- 괄호 제거\n",
    "        #문자열 끝까지 검사했는데 괄호 한쪽이라도 남아있으면 NO, 리스트에 아무것도 없으면 YES\n",
    "        if lsttemp[-1] == i:\n",
    "            lsttemp.append(i)\n",
    "        elif lsttemp[-1] != i:\n",
    "            lsttemp.pop()        \n",
    "\n",
    "    if not lsttemp:\n",
    "        print(\"YES\")\n",
    "    else:\n",
    "        print(\"NO\")\n",
    "\n",
    "# 처음에 백준 입력 예제를 한번에 입력 받아서 하는건줄 알고 아래처럼 리스트 형태로 코딩 했는데.\n",
    "# 알고보니 입력 예제 각각 한줄씩 입력받아서 처리하는 거였음.\n",
    "# 백준 테스트 방식을 적응 할 필요가 있어 보인다.\n",
    "# lstBracket = ['()()))())()', '()(())()()((()))', '(())((()(()())))', '())()(()()())', '()())())((()))']\n",
    "# lstBracket = ['(())())', '(((()())()', '(()())((()))', '((()()(()))(((())))()', '()()()()(()()())()', '(()((())()(']\n",
    "# lstBracket = ['((', '))', '())(()']\n",
    "\n",
    "ValidPS(T)"
   ]
  },
  {
   "attachments": {},
   "cell_type": "markdown",
   "metadata": {},
   "source": []
  }
 ],
 "metadata": {
  "kernelspec": {
   "display_name": "Python 3",
   "language": "python",
   "name": "python3"
  },
  "language_info": {
   "codemirror_mode": {
    "name": "ipython",
    "version": 3
   },
   "file_extension": ".py",
   "mimetype": "text/x-python",
   "name": "python",
   "nbconvert_exporter": "python",
   "pygments_lexer": "ipython3",
   "version": "3.11.3"
  },
  "orig_nbformat": 4
 },
 "nbformat": 4,
 "nbformat_minor": 2
}
