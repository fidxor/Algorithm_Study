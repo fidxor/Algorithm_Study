{
 "cells": [
  {
   "attachments": {},
   "cell_type": "markdown",
   "metadata": {},
   "source": [
    "#### [괄호변환](https://school.programmers.co.kr/learn/courses/30/lessons/60058)"
   ]
  },
  {
   "cell_type": "code",
   "execution_count": 1,
   "metadata": {},
   "outputs": [
    {
     "data": {
      "text/plain": [
       "''"
      ]
     },
     "execution_count": 1,
     "metadata": {},
     "output_type": "execute_result"
    }
   ],
   "source": [
    "def solution(p):\n",
    "    answer = ''\n",
    "\n",
    "    index = 0\n",
    "    firstBracketCount = 0\n",
    "    isYes = True\n",
    "\n",
    "           \n",
    "\n",
    "    return answer\n",
    "\n",
    "def SliceBracket(p):\n",
    "    u = None\n",
    "    v = None\n",
    "\n",
    "    # 올바른 괄호 세트와 올바르지 않은 괄호 분리\n",
    "    for i in p:\n",
    "        if u is None:\n",
    "            pass\n",
    "        elif v is None:\n",
    "            pass\n",
    "    \n",
    "    pass\n",
    "\n",
    "\n",
    "bracket = \"()))((()\"\n",
    "\n",
    "solution(bracket)"
   ]
  }
 ],
 "metadata": {
  "kernelspec": {
   "display_name": "Python 3",
   "language": "python",
   "name": "python3"
  },
  "language_info": {
   "codemirror_mode": {
    "name": "ipython",
    "version": 3
   },
   "file_extension": ".py",
   "mimetype": "text/x-python",
   "name": "python",
   "nbconvert_exporter": "python",
   "pygments_lexer": "ipython3",
   "version": "3.11.3"
  },
  "orig_nbformat": 4
 },
 "nbformat": 4,
 "nbformat_minor": 2
}
