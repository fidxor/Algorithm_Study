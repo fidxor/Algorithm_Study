{
 "cells": [
  {
   "attachments": {},
   "cell_type": "markdown",
   "metadata": {},
   "source": [
    "# 문제 설명\n",
    "운영체제의 역할 중 하나는 컴퓨터 시스템의 자원을 효율적으로 관리하는 것입니다. 이 문제에서는 운영체제가 다음 규칙에 따라 프로세스를 관리할 경우 특정 프로세스가 몇 번째로 실행되는지 알아내면 됩니다.\n",
    "\n",
    "1. 실행 대기 큐(Queue)에서 대기중인 프로세스 하나를 꺼냅니다.\n",
    "2. 큐에 대기중인 프로세스 중 우선순위가 더 높은 프로세스가 있다면 방금 꺼낸 프로세스를 다시 큐에 넣습니다.\n",
    "3. 만약 그런 프로세스가 없다면 방금 꺼낸 프로세스를 실행합니다.\n",
    "  3.1 한 번 실행한 프로세스는 다시 큐에 넣지 않고 그대로 종료됩니다.\n",
    "예를 들어 프로세스 4개 [A, B, C, D]가 순서대로 실행 대기 큐에 들어있고, 우선순위가 [2, 1, 3, 2]라면 [C, D, A, B] 순으로 실행하게 됩니다.\n",
    "\n",
    "현재 실행 대기 큐(Queue)에 있는 프로세스의 중요도가 순서대로 담긴 배열 priorities와, 몇 번째로 실행되는지 알고싶은 프로세스의 위치를 알려주는 location이 매개변수로 주어질 때, 해당 프로세스가 몇 번째로 실행되는지 return 하도록 solution 함수를 작성해주세요.\n",
    "\n",
    "### 예제\n",
    "\n",
    "6개의 프로세스 [A, B, C, D, E, F]가 대기 큐에 있고 중요도가 [1, 1, 9, 1, 1, 1] 이므로 [C, D, E, F, A, B] 순으로 실행됩니다. 따라서 A는 5번째로 실행됩니다."
   ]
  },
  {
   "cell_type": "code",
   "execution_count": 23,
   "metadata": {},
   "outputs": [
    {
     "name": "stdout",
     "output_type": "stream",
     "text": [
      "6\n"
     ]
    }
   ],
   "source": [
    "from collections import deque\n",
    "\n",
    "def solution(priorities, location):\n",
    "    answer = 0   \n",
    "\t\n",
    "    tempQueue = deque(range(0, len(priorities)))\n",
    "    prioritiesque = deque(priorities)\n",
    "\n",
    "    value = tempQueue[location]\n",
    "\n",
    "    isBig = False\n",
    "\n",
    "    while value in tempQueue:\n",
    "        prionum = prioritiesque.popleft()\n",
    "        tempnum = tempQueue.popleft()\n",
    "        for i in prioritiesque:            \n",
    "            if prionum < i:\n",
    "                prioritiesque.append(prionum)\n",
    "                tempQueue.append(tempnum)\n",
    "                isBig = True\n",
    "                break\n",
    "        \n",
    "        if isBig == False:\n",
    "            answer += 1\n",
    "\n",
    "        isBig = False\n",
    "\n",
    "    return answer\n",
    "\n",
    "\n",
    "priorities = [1, 1, 9, 1, 1, 1]\n",
    "location = 1\n",
    "\n",
    "result = solution(priorities, location)\n",
    "print(result)"
   ]
  },
  {
   "cell_type": "code",
   "execution_count": null,
   "metadata": {},
   "outputs": [],
   "source": [
    "def solution(N):\n",
    "    answer = 0\n",
    "\n",
    "    isNotPrimeNumber = False\n",
    "\n",
    "    originlst = list(range(2, N + 1))\n",
    "    removelst = originlst\n",
    "    \n",
    "    GetPrimeNumber(originlst, removelst, 0)\n",
    "    \n",
    "\n",
    "    answer = len(originlst)\n",
    "    # for i in range(2, N + 1):\n",
    "    #     if i % 2 == 0 & i > 10:\n",
    "    #         continue\n",
    "    #     elif i % 5 == 0 & i > 10:\n",
    "    #         continue\n",
    "    #     for j in range(2, i + 1):            \n",
    "\n",
    "    #         if i % j == 0 and i != j:                \n",
    "    #             isNotPrimeNumber = True\n",
    "    #             break\n",
    "        \n",
    "    #     if isNotPrimeNumber == False:\n",
    "    #         answer += 1\n",
    "    #     else:\n",
    "    #         isNotPrimeNumber = False\n",
    "\n",
    "    return len(originlst)\n",
    "\n",
    "def GetPrimeNumber(lst, removelst, startidx):\n",
    "    if len(removelst) <= startidx:\n",
    "        return \n",
    "    \n",
    "    startNum = lst[startidx]\n",
    "    for i in lst:\n",
    "        if i == startNum:\n",
    "            continue\n",
    "        if i % startNum == 0:\n",
    "            removelst.remove(i)\n",
    "\n",
    "    templst = removelst\n",
    "    tempRemovelst = templst\n",
    "    startidx += 1\n",
    "\n",
    "    \n",
    "    GetPrimeNumber(templst, tempRemovelst, startidx + 1)\n",
    "\n",
    "            \n",
    "solution(100000)\n"
   ]
  }
 ],
 "metadata": {
  "kernelspec": {
   "display_name": "Python 3",
   "language": "python",
   "name": "python3"
  },
  "language_info": {
   "codemirror_mode": {
    "name": "ipython",
    "version": 3
   },
   "file_extension": ".py",
   "mimetype": "text/x-python",
   "name": "python",
   "nbconvert_exporter": "python",
   "pygments_lexer": "ipython3",
   "version": "3.11.3"
  },
  "orig_nbformat": 4
 },
 "nbformat": 4,
 "nbformat_minor": 2
}
