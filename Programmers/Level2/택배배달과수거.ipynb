{
 "cells": [
  {
   "attachments": {},
   "cell_type": "markdown",
   "metadata": {},
   "source": [
    "#### [택배배달과수거하기](https://school.programmers.co.kr/learn/courses/30/lessons/150369)"
   ]
  },
  {
   "cell_type": "code",
   "execution_count": 20,
   "metadata": {},
   "outputs": [
    {
     "data": {
      "text/plain": [
       "16"
      ]
     },
     "execution_count": 20,
     "metadata": {},
     "output_type": "execute_result"
    }
   ],
   "source": [
    "def solution(cap, n, deliveries, pickups):\n",
    "    answer = 0\n",
    "\n",
    "    \n",
    "\n",
    "    return answer\n",
    "\n",
    "\n",
    "deliveries = [1, 0, 3, 1, 2]\n",
    "pickups = [0, 3, 0, 4, 0]\n",
    "cap = 4\n",
    "n = 5\n",
    "\n",
    "solution(cap, n, deliveries, pickups)"
   ]
  },
  {
   "cell_type": "code",
   "execution_count": null,
   "metadata": {},
   "outputs": [],
   "source": [
    "def solution(cap, n, deliveries, pickups):\n",
    "    answer = 0\n",
    "\n",
    "    pickupStart = 0\n",
    "\n",
    "    while(True):\n",
    "        deliveryidx = 0\n",
    "        pickupidx = 0\n",
    "        caps = cap\n",
    "\n",
    "        for i in deliveries:\n",
    "            if i == 0:\n",
    "                deliveryidx += 1\n",
    "                continue\n",
    "\n",
    "            if i >= caps:\n",
    "                deliveries[deliveryidx] = i - caps                \n",
    "                pickupStart = deliveryidx\n",
    "                answer = answer + (deliveryidx + 1)\n",
    "                break\n",
    "            else:\n",
    "                deliveries[deliveryidx] = 0\n",
    "                caps -= i\n",
    "                if sum(deliveries) == 0:\n",
    "                    pickupStart = deliveryidx\n",
    "                    answer = answer + (deliveryidx + 1)\n",
    "                    break\n",
    "\n",
    "            deliveryidx += 1\n",
    "\n",
    "        caps = 0\n",
    "        for i in pickups[ : pickupStart]:\n",
    "            if caps >= cap:\n",
    "                break\n",
    "\n",
    "            if i == 0:\n",
    "                pickupidx += 1\n",
    "                continue\n",
    "\n",
    "            if i >= caps:\n",
    "                pickups[pickupidx] = i - cap\n",
    "                if pickups[pickupidx] < 0: pickups[pickupidx] = 0                   \n",
    "            else:\n",
    "                caps += pickups[pickupidx]\n",
    "                pickups[pickupidx] = 0\n",
    "            \n",
    "            pickupidx += 1\n",
    "\n",
    "        answer = answer + pickupStart + 1\n",
    "\n",
    "        #deliveries 와 pickups 의 리스트 값들이 모두 0이면 break\n",
    "        if sum(deliveries) == 0 & sum(pickups) == 0:\n",
    "            break\n",
    "\n",
    "    return answer\n",
    "\n",
    "\n",
    "# 7\t[1, 0, 2, 0, 1, 0, 2]\t[0, 2, 0, 1, 0, 2, 0]\n",
    "\n",
    "deliveries = [1, 0, 3, 1, 2]\n",
    "pickups = [0, 3, 0, 4, 0]\n",
    "cap = 4\n",
    "n = 5\n",
    "\n",
    "solution(cap, n, deliveries, pickups)"
   ]
  }
 ],
 "metadata": {
  "kernelspec": {
   "display_name": "Python 3",
   "language": "python",
   "name": "python3"
  },
  "language_info": {
   "codemirror_mode": {
    "name": "ipython",
    "version": 3
   },
   "file_extension": ".py",
   "mimetype": "text/x-python",
   "name": "python",
   "nbconvert_exporter": "python",
   "pygments_lexer": "ipython3",
   "version": "3.11.3"
  },
  "orig_nbformat": 4
 },
 "nbformat": 4,
 "nbformat_minor": 2
}
