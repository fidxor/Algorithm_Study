{
 "cells": [
  {
   "cell_type": "code",
   "execution_count": null,
   "metadata": {},
   "outputs": [],
   "source": [
    "def solution(board, moves):\n",
    "    answer = 0    \n",
    "\n",
    "    lstPick = []\n",
    "    \n",
    "    #moves 개수만큼 반복문\n",
    "    for move in moves:\n",
    "        for line in board:\n",
    "            if line[move-1] != 0:   #board의 배열을 돌면서 move -1 에 해당하는 인덱스가 0이 아닌지 검사\n",
    "                if not lstPick:\n",
    "                    lstPick.append(line[move-1])    # pick 리스트가 비어있으면 일단 iput\n",
    "                    line[move-1] = 0                # board에 서 뽑힌 값은 0으로 변경\n",
    "                elif lstPick[-1] != line[move-1]:   # pick 리스트의 마지막 값이 현재 board에서 뽑은 값과 다르면 list에 추가\n",
    "                    lstPick.append(line[move-1])                    \n",
    "                    line[move-1] = 0\n",
    "                elif lstPick[-1] == line[move-1]:   # pick 리스트의 마지막 값이 현재 board에서 뽑은 값과 같다.\n",
    "                    lstPick.pop()                   # pick 리스트의 마지막 값을 삭제 해 주면서 \n",
    "                    line[move-1] = 0                \n",
    "                    answer += 2                     # 현재 뽑은 값과 pick 리스트에 있는 값이 둘다 사라지는 것이니깐 +2 해준다.\n",
    "                break\n",
    "    \n",
    "    return answer\n",
    "\n",
    "board = [[0, 0, 0, 0, 0], [0, 0, 1, 0, 3], [0, 2, 5, 0, 1], \n",
    "        [4, 2, 4, 4, 2], [3, 5, 1, 3, 1]]\n",
    "moves = [1, 5, 3, 5, 1, 2, 1, 4]\n",
    "\n",
    "result = solution(board, moves)\n",
    "\n",
    "print(result)"
   ]
  }
 ],
 "metadata": {
  "language_info": {
   "name": "python"
  },
  "orig_nbformat": 4
 },
 "nbformat": 4,
 "nbformat_minor": 2
}
