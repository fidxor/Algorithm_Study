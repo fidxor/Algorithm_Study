{
 "cells": [
  {
   "attachments": {},
   "cell_type": "markdown",
   "metadata": {},
   "source": [
    "### [체육복](https://school.programmers.co.kr/learn/courses/30/lessons/42862)  \n",
    "\n",
    "문제 설명  \n",
    "점심시간에 도둑이 들어, 일부 학생이 체육복을 도난당했습니다. 다행히 여벌 체육복이 있는 학생이 이들에게 체육복을 빌려주려 합니다. 학생들의 번호는 체격 순으로 매겨져 있어, 바로 앞번호의 학생이나 바로 뒷번호의 학생에게만 체육복을 빌려줄 수 있습니다. 예를 들어, 4번 학생은 3번 학생이나 5번 학생에게만 체육복을 빌려줄 수 있습니다. 체육복이 없으면 수업을 들을 수 없기 때문에 체육복을 적절히 빌려 최대한 많은 학생이 체육수업을 들어야 합니다.\n",
    "\n",
    "전체 학생의 수 n, 체육복을 도난당한 학생들의 번호가 담긴 배열 lost, 여벌의 체육복을 가져온 학생들의 번호가 담긴 배열 reserve가 매개변수로 주어질 때, 체육수업을 들을 수 있는 학생의 최댓값을 return 하도록 solution 함수를 작성해주세요.\n",
    "\n",
    "제한사항  \n",
    "\n",
    "전체 학생의 수는 2명 이상 30명 이하입니다. \n",
    "체육복을 도난당한 학생의 수는 1명 이상 n명 이하이고 중복되는 번호는 없습니다.  \n",
    "여벌의 체육복을 가져온 학생의 수는 1명 이상 n명 이하이고 중복되는 번호는 없습니다.  \n",
    "여벌 체육복이 있는 학생만 다른 학생에게 체육복을 빌려줄 수 있습니다.  \n",
    "여벌 체육복을 가져온 학생이 체육복을 도난당했을 수 있습니다. 이때 이 학생은 체육복을 하나만 도난당했다고 가정하며, 남은 체육복이 하나이기에 다른 학생에게는 체육복을 빌려줄 수 없습니다. \n",
    "\n",
    "입출력 예 설명  \n",
    "예제 #1  \n",
    "1번 학생이 2번 학생에게 체육복을 빌려주고, 3번 학생이나 5번 학생이 4번 학생에게 체육복을 빌려주면 학생 5명이 체육수업을 들을 수 있습니다.  \n",
    "\n",
    "예제 #2  \n",
    "3번 학생이 2번 학생이나 4번 학생에게 체육복을 빌려주면 학생 4명이 체육수업을 들을 수 있습니다.\n",
    "\n"
   ]
  },
  {
   "cell_type": "code",
   "execution_count": 2,
   "metadata": {},
   "outputs": [
    {
     "name": "stdout",
     "output_type": "stream",
     "text": [
      "5\n",
      "5\n",
      "4\n",
      "2\n"
     ]
    },
    {
     "data": {
      "text/plain": [
       "2"
      ]
     },
     "execution_count": 2,
     "metadata": {},
     "output_type": "execute_result"
    }
   ],
   "source": [
    "def solution(n, lost, reserve):\n",
    "    answer = 0\n",
    "\n",
    "    lost.sort()\n",
    "    reserve.sort()    \n",
    "\n",
    "    lostcopy = lost.copy()\n",
    "\n",
    "    for i in lost:\n",
    "        # lost 와 reserve 에 같은 값이 있으면 제거\n",
    "        if i in reserve:\n",
    "            lostcopy.remove(i)\n",
    "            reserve.remove(i)\n",
    "\n",
    "    lostDuplicate = lostcopy.copy()\n",
    "\n",
    "    for i in lostcopy:\n",
    "        back = i - 1    # 잃어버린 학생 번호의 뒷번호\n",
    "        forward = i + 1 # 잃어버린 학생 번호의 앞번호 \n",
    "\n",
    "        # back 이나 forward 번호가 reserve 리스트에 있으면 \n",
    "        # lost와 reserve에서 지워준다.\n",
    "        if back in reserve:\n",
    "            if i in lostDuplicate: lostDuplicate.remove(i)\n",
    "            if back in reserve: reserve.remove(back)\n",
    "        elif forward in reserve:\n",
    "            if i in lostDuplicate: lostDuplicate.remove(i)\n",
    "            if forward in reserve: reserve.remove(forward)\n",
    "\n",
    "    # 총원에서 끝까지 체육복을 빌리지 못한 인원수를 빼준다.\n",
    "    answer = n - len(lostDuplicate)\n",
    "\n",
    "    return answer    \n",
    "\n",
    "solution(5, [4, 2], [3, 5])\n",
    "solution(5, [2, 4], [1, 3, 5])\n",
    "solution(5, [2, 4], [3])\n",
    "solution(3, [3], [1])"
   ]
  }
 ],
 "metadata": {
  "kernelspec": {
   "display_name": "Python 3",
   "language": "python",
   "name": "python3"
  },
  "language_info": {
   "codemirror_mode": {
    "name": "ipython",
    "version": 3
   },
   "file_extension": ".py",
   "mimetype": "text/x-python",
   "name": "python",
   "nbconvert_exporter": "python",
   "pygments_lexer": "ipython3",
   "version": "3.11.3"
  },
  "orig_nbformat": 4
 },
 "nbformat": 4,
 "nbformat_minor": 2
}
