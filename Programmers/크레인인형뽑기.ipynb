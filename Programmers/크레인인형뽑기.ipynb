{
 "cells": [
  {
   "cell_type": "code",
   "execution_count": null,
   "metadata": {},
   "outputs": [],
   "source": [
    "def solution(board, moves):\n",
    "    answer = 0    \n",
    "\n",
    "    lstPick = []\n",
    "    \n",
    "    for move in moves:        \n",
    "        for line in board:\n",
    "            if line[move-1] != 0:\n",
    "                if not lstPick:\n",
    "                    lstPick.append(line[move-1])                    \n",
    "                    line[move-1] = 0\n",
    "                elif lstPick[-1] != line[move-1]:\n",
    "                    lstPick.append(line[move-1])                    \n",
    "                    line[move-1] = 0\n",
    "                elif lstPick[-1] == line[move-1]:\n",
    "                    lstPick.pop()                    \n",
    "                    line[move-1] = 0\n",
    "                    answer += 2\n",
    "                break\n",
    "    \n",
    "    return answer\n",
    "\n",
    "board = [[0, 0, 0, 0, 0], [0, 0, 1, 0, 3], [0, 2, 5, 0, 1], \n",
    "        [4, 2, 4, 4, 2], [3, 5, 1, 3, 1]]\n",
    "moves = [1, 5, 3, 5, 1, 2, 1, 4]\n",
    "\n",
    "result = solution(board, moves)\n",
    "\n",
    "print(result)"
   ]
  }
 ],
 "metadata": {
  "language_info": {
   "name": "python"
  },
  "orig_nbformat": 4
 },
 "nbformat": 4,
 "nbformat_minor": 2
}
